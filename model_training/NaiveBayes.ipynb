{
 "cells": [
  {
   "cell_type": "code",
   "execution_count": 1,
   "id": "593d603b-9920-4709-9075-58f4d32800bc",
   "metadata": {},
   "outputs": [],
   "source": [
    "import pandas as pd\n",
    "import numpy as np\n",
    "from sklearn.model_selection import train_test_split\n",
    "import joblib\n",
    "from sklearn.feature_extraction.text import CountVectorizer\n",
    "from sklearn.naive_bayes import MultinomialNB\n",
    "from sklearn.metrics import mean_squared_error\n",
    "from sklearn.metrics import f1_score"
   ]
  },
  {
   "cell_type": "code",
   "execution_count": 2,
   "id": "2ebbef4d-e289-483c-b4de-b5faa98493eb",
   "metadata": {},
   "outputs": [],
   "source": [
    "datasets = pd.read_csv('../datasets/train_preprocessed.csv').dropna()\n",
    "X_train = datasets[\"content\"].astype(\"string\").to_numpy()\n",
    "y_train = datasets[\"sentiment\"].astype(\"category\").cat.codes.to_numpy()"
   ]
  },
  {
   "cell_type": "code",
   "execution_count": 3,
   "id": "beb356fc-0568-4e74-a24f-d92f752ab2d4",
   "metadata": {},
   "outputs": [],
   "source": [
    "datasets_t = pd.read_csv('../datasets/test_preprocessed.csv').dropna()\n",
    "X_test = datasets_t[\"content\"].astype(\"string\").to_numpy()\n",
    "y_test = datasets_t[\"sentiment\"].astype(\"category\").cat.codes.to_numpy()"
   ]
  },
  {
   "cell_type": "code",
   "execution_count": 52,
   "id": "47d4800a-cf81-467a-9b68-c34ab4f5854c",
   "metadata": {},
   "outputs": [],
   "source": [
    "df = pd.read_csv(\"../datasets/tweet_emotions.csv\")\n",
    "x = df['content']\n",
    "y = df['sentiment']\n",
    "x, x_test, y, y_test = train_test_split(x,y, stratify=y, test_size=0.25, random_state=42)"
   ]
  },
  {
   "cell_type": "code",
   "execution_count": 5,
   "id": "452721e1-0e61-4e90-bfa2-222e446ce270",
   "metadata": {},
   "outputs": [],
   "source": [
    "x = pd.read_csv('../datasets/train_preprocessed.csv').content.to_numpy()\n",
    "y = pd.read_csv('../datasets/train_preprocessed.csv').sentiment.to_numpy()\n",
    "X_test = pd.read_csv('../datasets/test_preprocessed.csv').content.to_numpy()\n",
    "y_test = pd.read_csv('../datasets/test_preprocessed.csv').sentiment.to_numpy()"
   ]
  },
  {
   "cell_type": "code",
   "execution_count": 5,
   "id": "a82ecfcf-bf47-4358-8502-3d3f0ab22416",
   "metadata": {
    "tags": []
   },
   "outputs": [],
   "source": [
    "vec = CountVectorizer(stop_words='english')\n",
    "x = vec.fit_transform(X_train).toarray()\n",
    "x_test = vec.transform(X_test).toarray()"
   ]
  },
  {
   "cell_type": "code",
   "execution_count": 6,
   "id": "d1c32eec-5478-446e-a3cf-4be9b0685e45",
   "metadata": {
    "tags": []
   },
   "outputs": [
    {
     "data": {
      "text/plain": [
       "MultinomialNB()"
      ]
     },
     "execution_count": 6,
     "metadata": {},
     "output_type": "execute_result"
    }
   ],
   "source": [
    "model = MultinomialNB()\n",
    "model.fit(x, y_train)"
   ]
  },
  {
   "cell_type": "code",
   "execution_count": 7,
   "id": "208c5a98-42f6-4e4a-b8ea-1b8d18ef652c",
   "metadata": {
    "tags": []
   },
   "outputs": [
    {
     "data": {
      "text/plain": [
       "0.315773493244269"
      ]
     },
     "execution_count": 7,
     "metadata": {},
     "output_type": "execute_result"
    }
   ],
   "source": [
    "model.score(x_test, y_test)"
   ]
  },
  {
   "cell_type": "code",
   "execution_count": 8,
   "id": "7ddd1e89-0c6b-49a9-8413-ffcfcf26c12f",
   "metadata": {
    "tags": []
   },
   "outputs": [],
   "source": [
    "pred = model.predict((x_test))"
   ]
  },
  {
   "cell_type": "code",
   "execution_count": 9,
   "id": "abbdd3a5-df89-40c6-850c-c461b3c1a4e1",
   "metadata": {},
   "outputs": [
    {
     "data": {
      "text/plain": [
       "0.2696385599978806"
      ]
     },
     "execution_count": 9,
     "metadata": {},
     "output_type": "execute_result"
    }
   ],
   "source": [
    "f1 = f1_score(y_test, pred, average='weighted')\n",
    "f1"
   ]
  },
  {
   "cell_type": "code",
   "execution_count": null,
   "id": "1516a3b2-12fe-4766-9225-5f37966b9c3c",
   "metadata": {},
   "outputs": [],
   "source": []
  },
  {
   "cell_type": "code",
   "execution_count": null,
   "id": "b55e9127-4340-4578-a8e8-bf43d80ca3e7",
   "metadata": {},
   "outputs": [],
   "source": []
  },
  {
   "cell_type": "code",
   "execution_count": null,
   "id": "50948df6-9721-42ab-aa71-f1a889aaac5e",
   "metadata": {},
   "outputs": [],
   "source": []
  },
  {
   "cell_type": "code",
   "execution_count": null,
   "id": "02e51e00-066e-4ace-b0b1-4e5bc9e88cf7",
   "metadata": {},
   "outputs": [],
   "source": []
  },
  {
   "cell_type": "code",
   "execution_count": null,
   "id": "5dde40ab-a1a1-4001-ac11-0dad04b6068e",
   "metadata": {},
   "outputs": [],
   "source": []
  },
  {
   "cell_type": "code",
   "execution_count": null,
   "id": "8109bf9e-088a-4ff0-a05c-daee494dea42",
   "metadata": {},
   "outputs": [],
   "source": []
  }
 ],
 "metadata": {
  "kernelspec": {
   "display_name": "default:Python",
   "language": "python",
   "name": "conda-env-default-py"
  },
  "language_info": {
   "codemirror_mode": {
    "name": "ipython",
    "version": 3
   },
   "file_extension": ".py",
   "mimetype": "text/x-python",
   "name": "python",
   "nbconvert_exporter": "python",
   "pygments_lexer": "ipython3",
   "version": "3.9.10"
  }
 },
 "nbformat": 4,
 "nbformat_minor": 5
}
