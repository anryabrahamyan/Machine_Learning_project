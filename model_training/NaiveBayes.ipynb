{
 "cells": [
  {
   "cell_type": "code",
   "execution_count": 15,
   "id": "593d603b-9920-4709-9075-58f4d32800bc",
   "metadata": {},
   "outputs": [],
   "source": [
    "import pandas as pd\n",
    "import numpy as np\n",
    "from sklearn.model_selection import train_test_split\n",
    "import joblib\n",
    "from sklearn.feature_extraction.text import CountVectorizer\n",
    "from sklearn.naive_bayes import MultinomialNB\n",
    "from sklearn.metrics import mean_squared_error\n",
    "from sklearn.metrics import f1_score\n",
    "from sklearn.metrics import classification_report, confusion_matrix"
   ]
  },
  {
   "cell_type": "code",
   "execution_count": 6,
   "id": "2ebbef4d-e289-483c-b4de-b5faa98493eb",
   "metadata": {},
   "outputs": [],
   "source": [
    "datasets = pd.read_csv('../datasets/train_preprocessed.csv').dropna()\n",
    "X_train = datasets[\"content\"].astype(\"string\").to_numpy()\n",
    "y_train = datasets[\"sentiment\"].astype(\"category\").cat.codes.to_numpy()"
   ]
  },
  {
   "cell_type": "code",
   "execution_count": 9,
   "id": "beb356fc-0568-4e74-a24f-d92f752ab2d4",
   "metadata": {},
   "outputs": [],
   "source": [
    "datasets_t = pd.read_csv('../datasets/test_preprocessed.csv').dropna()\n",
    "X_test = datasets_t[\"content\"].astype(\"string\").to_numpy()\n",
    "y_test = datasets_t[\"sentiment\"].astype(\"category\").cat.codes.to_numpy()"
   ]
  },
  {
   "cell_type": "code",
   "execution_count": 7,
   "id": "a82ecfcf-bf47-4358-8502-3d3f0ab22416",
   "metadata": {
    "tags": []
   },
   "outputs": [],
   "source": [
    "vec = CountVectorizer(stop_words='english')\n",
    "x = vec.fit_transform(X_train).toarray()\n"
   ]
  },
  {
   "cell_type": "code",
   "execution_count": 10,
   "id": "dbbdd31c-cee8-480b-b538-534405c394ac",
   "metadata": {},
   "outputs": [],
   "source": [
    "x_test = vec.transform(X_test).toarray()"
   ]
  },
  {
   "cell_type": "code",
   "execution_count": 8,
   "id": "d1c32eec-5478-446e-a3cf-4be9b0685e45",
   "metadata": {
    "tags": []
   },
   "outputs": [
    {
     "data": {
      "text/plain": [
       "MultinomialNB()"
      ]
     },
     "execution_count": 8,
     "metadata": {},
     "output_type": "execute_result"
    }
   ],
   "source": [
    "model = MultinomialNB()\n",
    "model.fit(x, y_train)"
   ]
  },
  {
   "cell_type": "code",
   "execution_count": 11,
   "id": "208c5a98-42f6-4e4a-b8ea-1b8d18ef652c",
   "metadata": {
    "tags": []
   },
   "outputs": [
    {
     "data": {
      "text/plain": [
       "0.4534242600116077"
      ]
     },
     "execution_count": 11,
     "metadata": {},
     "output_type": "execute_result"
    }
   ],
   "source": [
    "#With augmentation\n",
    "model.score(x_test, y_test)"
   ]
  },
  {
   "cell_type": "code",
   "execution_count": 8,
   "id": "7ddd1e89-0c6b-49a9-8413-ffcfcf26c12f",
   "metadata": {
    "tags": []
   },
   "outputs": [],
   "source": [
    "pred = model.predict((x_test))"
   ]
  },
  {
   "cell_type": "code",
   "execution_count": 12,
   "id": "8d2e4666-b6e3-4814-ade7-f3a5e5a503f1",
   "metadata": {},
   "outputs": [],
   "source": [
    "#with augmentation\n",
    "pred = model.predict((x_test))"
   ]
  },
  {
   "cell_type": "code",
   "execution_count": 9,
   "id": "abbdd3a5-df89-40c6-850c-c461b3c1a4e1",
   "metadata": {},
   "outputs": [
    {
     "data": {
      "text/plain": [
       "0.2696385599978806"
      ]
     },
     "execution_count": 9,
     "metadata": {},
     "output_type": "execute_result"
    }
   ],
   "source": [
    "f1 = f1_score(y_test, pred, average='weighted')\n",
    "f1"
   ]
  },
  {
   "cell_type": "code",
   "execution_count": 13,
   "id": "47e1a5e7-5d68-4adc-8113-8fee6a60d363",
   "metadata": {},
   "outputs": [
    {
     "data": {
      "text/plain": [
       "0.41022491897716123"
      ]
     },
     "execution_count": 13,
     "metadata": {},
     "output_type": "execute_result"
    }
   ],
   "source": [
    "#with augmentation\n",
    "f1 = f1_score(y_test, pred, average='weighted')\n",
    "f1"
   ]
  },
  {
   "cell_type": "code",
   "execution_count": 15,
   "id": "b55e9127-4340-4578-a8e8-bf43d80ca3e7",
   "metadata": {},
   "outputs": [
    {
     "name": "stdout",
     "output_type": "stream",
     "text": [
      "              precision    recall  f1-score   support\n",
      "\n",
      "           0       0.00      0.00      0.00        36\n",
      "           1       0.00      0.00      0.00        59\n",
      "           2       0.00      0.00      0.00       269\n",
      "           3       0.00      0.00      0.00       250\n",
      "           4       0.18      0.00      0.01       586\n",
      "           5       0.33      0.36      0.34      1719\n",
      "           6       0.44      0.01      0.02       437\n",
      "           7       0.48      0.33      0.39      1268\n",
      "           8       0.32      0.39      0.35      2831\n",
      "           9       0.00      0.00      0.00       504\n",
      "          10       0.30      0.16      0.21      1703\n",
      "          11       0.08      0.00      0.00       722\n",
      "          12       0.29      0.62      0.40      2790\n",
      "\n",
      "    accuracy                           0.32     13174\n",
      "   macro avg       0.19      0.14      0.13     13174\n",
      "weighted avg       0.28      0.32      0.27     13174\n",
      "\n"
     ]
    },
    {
     "name": "stderr",
     "output_type": "stream",
     "text": [
      "/home/studio-lab-user/.conda/envs/default/lib/python3.9/site-packages/sklearn/metrics/_classification.py:1318: UndefinedMetricWarning: Precision and F-score are ill-defined and being set to 0.0 in labels with no predicted samples. Use `zero_division` parameter to control this behavior.\n",
      "  _warn_prf(average, modifier, msg_start, len(result))\n",
      "/home/studio-lab-user/.conda/envs/default/lib/python3.9/site-packages/sklearn/metrics/_classification.py:1318: UndefinedMetricWarning: Precision and F-score are ill-defined and being set to 0.0 in labels with no predicted samples. Use `zero_division` parameter to control this behavior.\n",
      "  _warn_prf(average, modifier, msg_start, len(result))\n",
      "/home/studio-lab-user/.conda/envs/default/lib/python3.9/site-packages/sklearn/metrics/_classification.py:1318: UndefinedMetricWarning: Precision and F-score are ill-defined and being set to 0.0 in labels with no predicted samples. Use `zero_division` parameter to control this behavior.\n",
      "  _warn_prf(average, modifier, msg_start, len(result))\n"
     ]
    }
   ],
   "source": [
    "report = classification_report(y_test, pred)\n",
    "print(report)"
   ]
  },
  {
   "cell_type": "code",
   "execution_count": 16,
   "id": "50948df6-9721-42ab-aa71-f1a889aaac5e",
   "metadata": {},
   "outputs": [
    {
     "name": "stdout",
     "output_type": "stream",
     "text": [
      "              precision    recall  f1-score   support\n",
      "\n",
      "           0       0.00      0.00      0.00        73\n",
      "           1       0.00      0.00      0.00       118\n",
      "           2       1.00      0.03      0.06       538\n",
      "           3       1.00      0.02      0.05       501\n",
      "           4       0.96      0.11      0.20       586\n",
      "           5       0.47      0.55      0.51      1719\n",
      "           6       0.91      0.15      0.25       437\n",
      "           7       0.61      0.48      0.54      1267\n",
      "           8       0.45      0.57      0.51      2826\n",
      "           9       0.97      0.08      0.14       503\n",
      "          10       0.57      0.40      0.47      1704\n",
      "          11       0.86      0.09      0.16       722\n",
      "          12       0.37      0.76      0.50      2790\n",
      "\n",
      "    accuracy                           0.45     13784\n",
      "   macro avg       0.63      0.25      0.26     13784\n",
      "weighted avg       0.58      0.45      0.41     13784\n",
      "\n"
     ]
    },
    {
     "name": "stderr",
     "output_type": "stream",
     "text": [
      "/home/studio-lab-user/.conda/envs/default/lib/python3.9/site-packages/sklearn/metrics/_classification.py:1318: UndefinedMetricWarning: Precision and F-score are ill-defined and being set to 0.0 in labels with no predicted samples. Use `zero_division` parameter to control this behavior.\n",
      "  _warn_prf(average, modifier, msg_start, len(result))\n",
      "/home/studio-lab-user/.conda/envs/default/lib/python3.9/site-packages/sklearn/metrics/_classification.py:1318: UndefinedMetricWarning: Precision and F-score are ill-defined and being set to 0.0 in labels with no predicted samples. Use `zero_division` parameter to control this behavior.\n",
      "  _warn_prf(average, modifier, msg_start, len(result))\n",
      "/home/studio-lab-user/.conda/envs/default/lib/python3.9/site-packages/sklearn/metrics/_classification.py:1318: UndefinedMetricWarning: Precision and F-score are ill-defined and being set to 0.0 in labels with no predicted samples. Use `zero_division` parameter to control this behavior.\n",
      "  _warn_prf(average, modifier, msg_start, len(result))\n"
     ]
    }
   ],
   "source": [
    "#with augmentation\n",
    "report = classification_report(y_test, pred)\n",
    "print(report)"
   ]
  },
  {
   "cell_type": "code",
   "execution_count": null,
   "id": "02e51e00-066e-4ace-b0b1-4e5bc9e88cf7",
   "metadata": {},
   "outputs": [],
   "source": []
  },
  {
   "cell_type": "code",
   "execution_count": null,
   "id": "5dde40ab-a1a1-4001-ac11-0dad04b6068e",
   "metadata": {},
   "outputs": [],
   "source": []
  },
  {
   "cell_type": "code",
   "execution_count": null,
   "id": "8109bf9e-088a-4ff0-a05c-daee494dea42",
   "metadata": {},
   "outputs": [],
   "source": []
  }
 ],
 "metadata": {
  "kernelspec": {
   "display_name": "default:Python",
   "language": "python",
   "name": "conda-env-default-py"
  },
  "language_info": {
   "codemirror_mode": {
    "name": "ipython",
    "version": 3
   },
   "file_extension": ".py",
   "mimetype": "text/x-python",
   "name": "python",
   "nbconvert_exporter": "python",
   "pygments_lexer": "ipython3",
   "version": "3.9.10"
  }
 },
 "nbformat": 4,
 "nbformat_minor": 5
}
