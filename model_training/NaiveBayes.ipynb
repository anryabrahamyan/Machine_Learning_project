{
 "cells": [
  {
   "cell_type": "code",
   "execution_count": 1,
   "id": "593d603b-9920-4709-9075-58f4d32800bc",
   "metadata": {},
   "outputs": [],
   "source": [
    "import pandas as pd\n",
    "import numpy as np\n",
    "from sklearn.model_selection import train_test_split\n",
    "import joblib\n",
    "from sklearn.feature_extraction.text import CountVectorizer\n",
    "from sklearn.naive_bayes import MultinomialNB\n",
    "from sklearn.metrics import mean_squared_error\n",
    "from sklearn.metrics import f1_score\n",
    "from sklearn.metrics import classification_report, confusion_matrix"
   ]
  },
  {
   "cell_type": "code",
   "execution_count": 2,
   "id": "2ebbef4d-e289-483c-b4de-b5faa98493eb",
   "metadata": {},
   "outputs": [],
   "source": [
    "datasets = pd.read_csv('../datasets/train_preprocessed.csv').dropna()\n",
    "X_train = datasets[\"content\"].astype(\"string\").to_numpy()\n",
    "y_train = datasets[\"sentiment\"].astype(\"category\").cat.codes.to_numpy()"
   ]
  },
  {
   "cell_type": "code",
   "execution_count": 3,
   "id": "beb356fc-0568-4e74-a24f-d92f752ab2d4",
   "metadata": {},
   "outputs": [],
   "source": [
    "datasets_t = pd.read_csv('../datasets/test_preprocessed_main.csv').dropna()\n",
    "X_test = datasets_t[\"content\"].astype(\"string\").to_numpy()\n",
    "y_test = datasets_t[\"sentiment\"].astype(\"category\").cat.codes.to_numpy()"
   ]
  },
  {
   "cell_type": "code",
   "execution_count": 4,
   "id": "a82ecfcf-bf47-4358-8502-3d3f0ab22416",
   "metadata": {
    "tags": []
   },
   "outputs": [],
   "source": [
    "vec = CountVectorizer(stop_words='english')\n",
    "x = vec.fit_transform(X_train).toarray()\n"
   ]
  },
  {
   "cell_type": "code",
   "execution_count": 5,
   "id": "dbbdd31c-cee8-480b-b538-534405c394ac",
   "metadata": {},
   "outputs": [],
   "source": [
    "x_test = vec.transform(X_test).toarray()"
   ]
  },
  {
   "cell_type": "code",
   "execution_count": 7,
   "id": "d1c32eec-5478-446e-a3cf-4be9b0685e45",
   "metadata": {
    "tags": []
   },
   "outputs": [
    {
     "data": {
      "text/plain": [
       "MultinomialNB()"
      ]
     },
     "execution_count": 7,
     "metadata": {},
     "output_type": "execute_result"
    }
   ],
   "source": [
    "model = MultinomialNB()\n",
    "model.fit(x, y_train)"
   ]
  },
  {
   "cell_type": "code",
   "execution_count": null,
   "id": "208c5a98-42f6-4e4a-b8ea-1b8d18ef652c",
   "metadata": {
    "tags": []
   },
   "outputs": [],
   "source": [
    "model.score(x_test, y_test)"
   ]
  },
  {
   "cell_type": "code",
   "execution_count": 13,
   "id": "7ddd1e89-0c6b-49a9-8413-ffcfcf26c12f",
   "metadata": {
    "tags": []
   },
   "outputs": [],
   "source": [
    "pred = model.predict((x_test))"
   ]
  },
  {
   "cell_type": "code",
   "execution_count": 14,
   "id": "abbdd3a5-df89-40c6-850c-c461b3c1a4e1",
   "metadata": {},
   "outputs": [
    {
     "data": {
      "text/plain": [
       "0.4730982999021278"
      ]
     },
     "execution_count": 14,
     "metadata": {},
     "output_type": "execute_result"
    }
   ],
   "source": [
    "f1 = f1_score(y_test, pred, average='weighted')\n",
    "f1"
   ]
  },
  {
   "cell_type": "code",
   "execution_count": 15,
   "id": "b55e9127-4340-4578-a8e8-bf43d80ca3e7",
   "metadata": {},
   "outputs": [
    {
     "name": "stdout",
     "output_type": "stream",
     "text": [
      "              precision    recall  f1-score   support\n",
      "\n",
      "           0       1.00      0.03      0.05        36\n",
      "           1       1.00      0.02      0.03        59\n",
      "           2       0.93      0.16      0.27       269\n",
      "           3       0.97      0.13      0.23       250\n",
      "           4       0.96      0.11      0.20       586\n",
      "           5       0.52      0.56      0.54      1719\n",
      "           6       0.76      0.40      0.52       437\n",
      "           7       0.64      0.47      0.54      1268\n",
      "           8       0.50      0.59      0.54      2831\n",
      "           9       0.67      0.26      0.38       504\n",
      "          10       0.63      0.37      0.47      1703\n",
      "          11       0.92      0.11      0.19       722\n",
      "          12       0.40      0.78      0.53      2790\n",
      "\n",
      "    accuracy                           0.50     13174\n",
      "   macro avg       0.76      0.31      0.35     13174\n",
      "weighted avg       0.59      0.50      0.47     13174\n",
      "\n"
     ]
    }
   ],
   "source": [
    "report = classification_report(y_test, pred)\n",
    "print(report)"
   ]
  },
  {
   "cell_type": "code",
   "execution_count": 12,
   "id": "dc6dd9b1-fd28-4c74-9af2-9aa976d497c7",
   "metadata": {},
   "outputs": [
    {
     "data": {
      "text/plain": [
       "['../model_app/vectorizer.pkl']"
      ]
     },
     "execution_count": 12,
     "metadata": {},
     "output_type": "execute_result"
    }
   ],
   "source": [
    "#saving the model\n",
    "from joblib import dump, load\n",
    "joblib.dump(vec,'../model_app/vectorizer.pkl',)\n",
    "joblib.dump(model,'../model_app/NB_augmented.pkl',)"
   ]
  },
  {
   "cell_type": "code",
   "execution_count": null,
   "id": "22d186f2-fb6c-439c-a9dd-25fa6dff7bb6",
   "metadata": {},
   "outputs": [],
   "source": [
    "#preprocessed"
   ]
  },
  {
   "cell_type": "code",
   "execution_count": 27,
   "id": "3a592203-710d-4a9a-bfdb-7307db29facc",
   "metadata": {},
   "outputs": [],
   "source": [
    "datasets = pd.read_csv('../datasets/train_preprocessed.csv').dropna()\n",
    "X_train = datasets[\"content\"].astype(\"string\").to_numpy()\n",
    "y_train = datasets[\"sentiment\"].astype(\"category\").cat.codes.to_numpy()"
   ]
  },
  {
   "cell_type": "code",
   "execution_count": 30,
   "id": "f240055a-7c31-4cc9-a4f2-b0106a9e4a12",
   "metadata": {},
   "outputs": [],
   "source": [
    "datasets_t = pd.read_csv('../datasets/test_preprocessed.csv').dropna()\n",
    "X_test = datasets_t[\"content\"].astype(\"string\").to_numpy()\n",
    "y_test = datasets_t[\"sentiment\"].astype(\"category\").cat.codes.to_numpy()"
   ]
  },
  {
   "cell_type": "code",
   "execution_count": 28,
   "id": "1ee3a260-aac3-4395-9ba2-3e006b490dd8",
   "metadata": {},
   "outputs": [],
   "source": [
    "vec = CountVectorizer(stop_words='english')\n",
    "x = vec.fit_transform(X_train).toarray()"
   ]
  },
  {
   "cell_type": "code",
   "execution_count": 31,
   "id": "1d61f738-dd86-4a0c-86d8-8f552e8c3ab6",
   "metadata": {},
   "outputs": [],
   "source": [
    "x_test = vec.transform(X_test).toarray()"
   ]
  },
  {
   "cell_type": "code",
   "execution_count": 29,
   "id": "4f30d53d-f896-46ea-859b-1fcae6b26b26",
   "metadata": {},
   "outputs": [
    {
     "data": {
      "text/plain": [
       "MultinomialNB()"
      ]
     },
     "execution_count": 29,
     "metadata": {},
     "output_type": "execute_result"
    }
   ],
   "source": [
    "model = MultinomialNB()\n",
    "model.fit(x, y_train)"
   ]
  },
  {
   "cell_type": "code",
   "execution_count": 32,
   "id": "5bbbd5ce-69b1-436a-a5c6-4f3bd3637d11",
   "metadata": {},
   "outputs": [
    {
     "data": {
      "text/plain": [
       "0.47889782905723394"
      ]
     },
     "execution_count": 32,
     "metadata": {},
     "output_type": "execute_result"
    }
   ],
   "source": [
    "model.score(x_test, y_test)"
   ]
  },
  {
   "cell_type": "code",
   "execution_count": 33,
   "id": "6e55306f-9c12-4fcb-ac06-8e5f4afacfa8",
   "metadata": {},
   "outputs": [],
   "source": [
    "pred = model.predict((x_test))"
   ]
  },
  {
   "cell_type": "code",
   "execution_count": 34,
   "id": "6ccee780-56b5-4d8e-92e9-b8b9f4a63502",
   "metadata": {},
   "outputs": [
    {
     "data": {
      "text/plain": [
       "0.444933095487474"
      ]
     },
     "execution_count": 34,
     "metadata": {},
     "output_type": "execute_result"
    }
   ],
   "source": [
    "f1 = f1_score(y_test, pred, average='weighted')\n",
    "f1"
   ]
  },
  {
   "cell_type": "code",
   "execution_count": 35,
   "id": "50948df6-9721-42ab-aa71-f1a889aaac5e",
   "metadata": {},
   "outputs": [
    {
     "name": "stdout",
     "output_type": "stream",
     "text": [
      "              precision    recall  f1-score   support\n",
      "\n",
      "           0       1.00      0.03      0.05        36\n",
      "           1       1.00      0.02      0.03        59\n",
      "           2       0.95      0.14      0.25       269\n",
      "           3       0.94      0.13      0.23       250\n",
      "           4       0.96      0.11      0.20       586\n",
      "           5       0.51      0.56      0.53      1719\n",
      "           6       0.91      0.10      0.17       437\n",
      "           7       0.62      0.48      0.54      1268\n",
      "           8       0.48      0.58      0.52      2831\n",
      "           9       0.93      0.06      0.10       504\n",
      "          10       0.60      0.38      0.46      1703\n",
      "          11       0.93      0.12      0.22       722\n",
      "          12       0.39      0.77      0.52      2790\n",
      "\n",
      "    accuracy                           0.48     13174\n",
      "   macro avg       0.79      0.27      0.30     13174\n",
      "weighted avg       0.59      0.48      0.44     13174\n",
      "\n"
     ]
    }
   ],
   "source": [
    "#with augmentation\n",
    "report = classification_report(y_test, pred)\n",
    "print(report)"
   ]
  },
  {
   "cell_type": "code",
   "execution_count": null,
   "id": "02e51e00-066e-4ace-b0b1-4e5bc9e88cf7",
   "metadata": {},
   "outputs": [],
   "source": []
  },
  {
   "cell_type": "code",
   "execution_count": null,
   "id": "5dde40ab-a1a1-4001-ac11-0dad04b6068e",
   "metadata": {},
   "outputs": [],
   "source": []
  },
  {
   "cell_type": "code",
   "execution_count": null,
   "id": "8109bf9e-088a-4ff0-a05c-daee494dea42",
   "metadata": {},
   "outputs": [],
   "source": []
  }
 ],
 "metadata": {
  "kernelspec": {
   "display_name": "default:Python",
   "language": "python",
   "name": "conda-env-default-py"
  },
  "language_info": {
   "codemirror_mode": {
    "name": "ipython",
    "version": 3
   },
   "file_extension": ".py",
   "mimetype": "text/x-python",
   "name": "python",
   "nbconvert_exporter": "python",
   "pygments_lexer": "ipython3",
   "version": "3.9.10"
  }
 },
 "nbformat": 4,
 "nbformat_minor": 5
}
