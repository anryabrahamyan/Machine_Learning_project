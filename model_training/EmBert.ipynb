{
 "cells": [
  {
   "cell_type": "code",
   "execution_count": 1,
   "id": "34a96f92-65c6-4988-9706-bf69bf803678",
   "metadata": {
    "tags": []
   },
   "outputs": [
    {
     "name": "stdout",
     "output_type": "stream",
     "text": [
      "Requirement already satisfied: bleach==4.1.0 in /home/studio-lab-user/.conda/envs/default/lib/python3.9/site-packages (from -r ../requirements.txt (line 1)) (4.1.0)\n",
      "Requirement already satisfied: more_itertools==8.12.0 in /home/studio-lab-user/.conda/envs/default/lib/python3.9/site-packages (from -r ../requirements.txt (line 2)) (8.12.0)\n",
      "Requirement already satisfied: nlpaug==1.1.10 in /home/studio-lab-user/.conda/envs/default/lib/python3.9/site-packages (from -r ../requirements.txt (line 3)) (1.1.10)\n",
      "Requirement already satisfied: pandas==1.4.0 in /home/studio-lab-user/.conda/envs/default/lib/python3.9/site-packages (from -r ../requirements.txt (line 4)) (1.4.0)\n",
      "Requirement already satisfied: preprocessor==1.1.3 in /home/studio-lab-user/.conda/envs/default/lib/python3.9/site-packages (from -r ../requirements.txt (line 5)) (1.1.3)\n",
      "Requirement already satisfied: streamlit==1.5.1 in /home/studio-lab-user/.conda/envs/default/lib/python3.9/site-packages (from -r ../requirements.txt (line 6)) (1.5.1)\n",
      "Requirement already satisfied: tensorflow==2.8.0 in /home/studio-lab-user/.conda/envs/default/lib/python3.9/site-packages (from -r ../requirements.txt (line 7)) (2.8.0)\n",
      "Requirement already satisfied: transformers==4.16.2 in /home/studio-lab-user/.conda/envs/default/lib/python3.9/site-packages (from -r ../requirements.txt (line 8)) (4.16.2)\n",
      "Requirement already satisfied: webencodings in /home/studio-lab-user/.conda/envs/default/lib/python3.9/site-packages (from bleach==4.1.0->-r ../requirements.txt (line 1)) (0.5.1)\n",
      "Requirement already satisfied: packaging in /home/studio-lab-user/.conda/envs/default/lib/python3.9/site-packages (from bleach==4.1.0->-r ../requirements.txt (line 1)) (21.3)\n",
      "Requirement already satisfied: six>=1.9.0 in /home/studio-lab-user/.conda/envs/default/lib/python3.9/site-packages (from bleach==4.1.0->-r ../requirements.txt (line 1)) (1.16.0)\n",
      "Requirement already satisfied: numpy>=1.16.2 in /home/studio-lab-user/.conda/envs/default/lib/python3.9/site-packages (from nlpaug==1.1.10->-r ../requirements.txt (line 3)) (1.22.2)\n",
      "Requirement already satisfied: requests>=2.22.0 in /home/studio-lab-user/.conda/envs/default/lib/python3.9/site-packages (from nlpaug==1.1.10->-r ../requirements.txt (line 3)) (2.27.1)\n",
      "Requirement already satisfied: python-dateutil>=2.8.1 in /home/studio-lab-user/.conda/envs/default/lib/python3.9/site-packages (from pandas==1.4.0->-r ../requirements.txt (line 4)) (2.8.2)\n",
      "Requirement already satisfied: pytz>=2020.1 in /home/studio-lab-user/.conda/envs/default/lib/python3.9/site-packages (from pandas==1.4.0->-r ../requirements.txt (line 4)) (2022.1)\n",
      "Requirement already satisfied: click>=7.0 in /home/studio-lab-user/.conda/envs/default/lib/python3.9/site-packages (from streamlit==1.5.1->-r ../requirements.txt (line 6)) (8.0.4)\n",
      "Requirement already satisfied: astor in /home/studio-lab-user/.conda/envs/default/lib/python3.9/site-packages (from streamlit==1.5.1->-r ../requirements.txt (line 6)) (0.8.1)\n",
      "Requirement already satisfied: validators in /home/studio-lab-user/.conda/envs/default/lib/python3.9/site-packages (from streamlit==1.5.1->-r ../requirements.txt (line 6)) (0.18.2)\n",
      "Requirement already satisfied: toml in /home/studio-lab-user/.conda/envs/default/lib/python3.9/site-packages (from streamlit==1.5.1->-r ../requirements.txt (line 6)) (0.10.2)\n",
      "Requirement already satisfied: attrs in /home/studio-lab-user/.conda/envs/default/lib/python3.9/site-packages (from streamlit==1.5.1->-r ../requirements.txt (line 6)) (21.2.0)\n",
      "Requirement already satisfied: base58 in /home/studio-lab-user/.conda/envs/default/lib/python3.9/site-packages (from streamlit==1.5.1->-r ../requirements.txt (line 6)) (2.1.1)\n",
      "Requirement already satisfied: pympler>=0.9 in /home/studio-lab-user/.conda/envs/default/lib/python3.9/site-packages (from streamlit==1.5.1->-r ../requirements.txt (line 6)) (1.0.1)\n",
      "Requirement already satisfied: watchdog in /home/studio-lab-user/.conda/envs/default/lib/python3.9/site-packages (from streamlit==1.5.1->-r ../requirements.txt (line 6)) (2.1.6)\n",
      "Requirement already satisfied: blinker in /home/studio-lab-user/.conda/envs/default/lib/python3.9/site-packages (from streamlit==1.5.1->-r ../requirements.txt (line 6)) (1.4)\n",
      "Requirement already satisfied: gitpython!=3.1.19 in /home/studio-lab-user/.conda/envs/default/lib/python3.9/site-packages (from streamlit==1.5.1->-r ../requirements.txt (line 6)) (3.1.27)\n",
      "Requirement already satisfied: tornado>=5.0 in /home/studio-lab-user/.conda/envs/default/lib/python3.9/site-packages (from streamlit==1.5.1->-r ../requirements.txt (line 6)) (6.1)\n",
      "Requirement already satisfied: pydeck>=0.1.dev5 in /home/studio-lab-user/.conda/envs/default/lib/python3.9/site-packages (from streamlit==1.5.1->-r ../requirements.txt (line 6)) (0.7.1)\n",
      "Requirement already satisfied: pyarrow in /home/studio-lab-user/.conda/envs/default/lib/python3.9/site-packages (from streamlit==1.5.1->-r ../requirements.txt (line 6)) (7.0.0)\n",
      "Requirement already satisfied: tzlocal in /home/studio-lab-user/.conda/envs/default/lib/python3.9/site-packages (from streamlit==1.5.1->-r ../requirements.txt (line 6)) (4.1)\n",
      "Requirement already satisfied: protobuf!=3.11,>=3.6.0 in /home/studio-lab-user/.conda/envs/default/lib/python3.9/site-packages (from streamlit==1.5.1->-r ../requirements.txt (line 6)) (3.19.4)\n",
      "Requirement already satisfied: cachetools>=4.0 in /home/studio-lab-user/.conda/envs/default/lib/python3.9/site-packages (from streamlit==1.5.1->-r ../requirements.txt (line 6)) (5.0.0)\n",
      "Requirement already satisfied: altair>=3.2.0 in /home/studio-lab-user/.conda/envs/default/lib/python3.9/site-packages (from streamlit==1.5.1->-r ../requirements.txt (line 6)) (4.2.0)\n",
      "Requirement already satisfied: pillow>=6.2.0 in /home/studio-lab-user/.conda/envs/default/lib/python3.9/site-packages (from streamlit==1.5.1->-r ../requirements.txt (line 6)) (9.0.1)\n",
      "Requirement already satisfied: h5py>=2.9.0 in /home/studio-lab-user/.conda/envs/default/lib/python3.9/site-packages (from tensorflow==2.8.0->-r ../requirements.txt (line 7)) (3.6.0)\n",
      "Requirement already satisfied: opt-einsum>=2.3.2 in /home/studio-lab-user/.conda/envs/default/lib/python3.9/site-packages (from tensorflow==2.8.0->-r ../requirements.txt (line 7)) (3.3.0)\n",
      "Requirement already satisfied: grpcio<2.0,>=1.24.3 in /home/studio-lab-user/.conda/envs/default/lib/python3.9/site-packages (from tensorflow==2.8.0->-r ../requirements.txt (line 7)) (1.44.0)\n",
      "Requirement already satisfied: tensorflow-io-gcs-filesystem>=0.23.1 in /home/studio-lab-user/.conda/envs/default/lib/python3.9/site-packages (from tensorflow==2.8.0->-r ../requirements.txt (line 7)) (0.24.0)\n",
      "Requirement already satisfied: libclang>=9.0.1 in /home/studio-lab-user/.conda/envs/default/lib/python3.9/site-packages (from tensorflow==2.8.0->-r ../requirements.txt (line 7)) (13.0.0)\n",
      "Requirement already satisfied: setuptools in /home/studio-lab-user/.conda/envs/default/lib/python3.9/site-packages (from tensorflow==2.8.0->-r ../requirements.txt (line 7)) (59.4.0)\n",
      "Requirement already satisfied: keras<2.9,>=2.8.0rc0 in /home/studio-lab-user/.conda/envs/default/lib/python3.9/site-packages (from tensorflow==2.8.0->-r ../requirements.txt (line 7)) (2.8.0)\n",
      "Requirement already satisfied: keras-preprocessing>=1.1.1 in /home/studio-lab-user/.conda/envs/default/lib/python3.9/site-packages (from tensorflow==2.8.0->-r ../requirements.txt (line 7)) (1.1.2)\n",
      "Requirement already satisfied: tensorboard<2.9,>=2.8 in /home/studio-lab-user/.conda/envs/default/lib/python3.9/site-packages (from tensorflow==2.8.0->-r ../requirements.txt (line 7)) (2.8.0)\n",
      "Requirement already satisfied: tf-estimator-nightly==2.8.0.dev2021122109 in /home/studio-lab-user/.conda/envs/default/lib/python3.9/site-packages (from tensorflow==2.8.0->-r ../requirements.txt (line 7)) (2.8.0.dev2021122109)\n",
      "Requirement already satisfied: google-pasta>=0.1.1 in /home/studio-lab-user/.conda/envs/default/lib/python3.9/site-packages (from tensorflow==2.8.0->-r ../requirements.txt (line 7)) (0.2.0)\n",
      "Requirement already satisfied: wrapt>=1.11.0 in /home/studio-lab-user/.conda/envs/default/lib/python3.9/site-packages (from tensorflow==2.8.0->-r ../requirements.txt (line 7)) (1.14.0)\n",
      "Requirement already satisfied: absl-py>=0.4.0 in /home/studio-lab-user/.conda/envs/default/lib/python3.9/site-packages (from tensorflow==2.8.0->-r ../requirements.txt (line 7)) (1.0.0)\n",
      "Requirement already satisfied: gast>=0.2.1 in /home/studio-lab-user/.conda/envs/default/lib/python3.9/site-packages (from tensorflow==2.8.0->-r ../requirements.txt (line 7)) (0.5.3)\n",
      "Requirement already satisfied: astunparse>=1.6.0 in /home/studio-lab-user/.conda/envs/default/lib/python3.9/site-packages (from tensorflow==2.8.0->-r ../requirements.txt (line 7)) (1.6.3)\n",
      "Requirement already satisfied: typing-extensions>=3.6.6 in /home/studio-lab-user/.conda/envs/default/lib/python3.9/site-packages (from tensorflow==2.8.0->-r ../requirements.txt (line 7)) (4.1.1)\n",
      "Requirement already satisfied: flatbuffers>=1.12 in /home/studio-lab-user/.conda/envs/default/lib/python3.9/site-packages (from tensorflow==2.8.0->-r ../requirements.txt (line 7)) (2.0)\n",
      "Requirement already satisfied: termcolor>=1.1.0 in /home/studio-lab-user/.conda/envs/default/lib/python3.9/site-packages (from tensorflow==2.8.0->-r ../requirements.txt (line 7)) (1.1.0)\n",
      "Requirement already satisfied: sacremoses in /home/studio-lab-user/.conda/envs/default/lib/python3.9/site-packages (from transformers==4.16.2->-r ../requirements.txt (line 8)) (0.0.49)\n",
      "Requirement already satisfied: tqdm>=4.27 in /home/studio-lab-user/.conda/envs/default/lib/python3.9/site-packages (from transformers==4.16.2->-r ../requirements.txt (line 8)) (4.63.0)\n",
      "Requirement already satisfied: tokenizers!=0.11.3,>=0.10.1 in /home/studio-lab-user/.conda/envs/default/lib/python3.9/site-packages (from transformers==4.16.2->-r ../requirements.txt (line 8)) (0.11.6)\n",
      "Requirement already satisfied: huggingface-hub<1.0,>=0.1.0 in /home/studio-lab-user/.conda/envs/default/lib/python3.9/site-packages (from transformers==4.16.2->-r ../requirements.txt (line 8)) (0.4.0)\n",
      "Requirement already satisfied: regex!=2019.12.17 in /home/studio-lab-user/.conda/envs/default/lib/python3.9/site-packages (from transformers==4.16.2->-r ../requirements.txt (line 8)) (2022.3.15)\n",
      "Requirement already satisfied: pyyaml>=5.1 in /home/studio-lab-user/.conda/envs/default/lib/python3.9/site-packages (from transformers==4.16.2->-r ../requirements.txt (line 8)) (6.0)\n",
      "Requirement already satisfied: filelock in /home/studio-lab-user/.conda/envs/default/lib/python3.9/site-packages (from transformers==4.16.2->-r ../requirements.txt (line 8)) (3.6.0)\n",
      "Requirement already satisfied: jinja2 in /home/studio-lab-user/.conda/envs/default/lib/python3.9/site-packages (from altair>=3.2.0->streamlit==1.5.1->-r ../requirements.txt (line 6)) (3.0.3)\n",
      "Requirement already satisfied: toolz in /home/studio-lab-user/.conda/envs/default/lib/python3.9/site-packages (from altair>=3.2.0->streamlit==1.5.1->-r ../requirements.txt (line 6)) (0.11.2)\n",
      "Requirement already satisfied: jsonschema>=3.0 in /home/studio-lab-user/.conda/envs/default/lib/python3.9/site-packages (from altair>=3.2.0->streamlit==1.5.1->-r ../requirements.txt (line 6)) (4.2.1)\n",
      "Requirement already satisfied: entrypoints in /home/studio-lab-user/.conda/envs/default/lib/python3.9/site-packages (from altair>=3.2.0->streamlit==1.5.1->-r ../requirements.txt (line 6)) (0.3)\n",
      "Requirement already satisfied: wheel<1.0,>=0.23.0 in /home/studio-lab-user/.conda/envs/default/lib/python3.9/site-packages (from astunparse>=1.6.0->tensorflow==2.8.0->-r ../requirements.txt (line 7)) (0.37.0)\n",
      "Requirement already satisfied: gitdb<5,>=4.0.1 in /home/studio-lab-user/.conda/envs/default/lib/python3.9/site-packages (from gitpython!=3.1.19->streamlit==1.5.1->-r ../requirements.txt (line 6)) (4.0.9)\n",
      "Requirement already satisfied: smmap<6,>=3.0.1 in /home/studio-lab-user/.conda/envs/default/lib/python3.9/site-packages (from gitdb<5,>=4.0.1->gitpython!=3.1.19->streamlit==1.5.1->-r ../requirements.txt (line 6)) (5.0.0)\n",
      "Requirement already satisfied: pyrsistent!=0.17.0,!=0.17.1,!=0.17.2,>=0.14.0 in /home/studio-lab-user/.conda/envs/default/lib/python3.9/site-packages (from jsonschema>=3.0->altair>=3.2.0->streamlit==1.5.1->-r ../requirements.txt (line 6)) (0.18.0)\n",
      "Requirement already satisfied: pyparsing!=3.0.5,>=2.0.2 in /home/studio-lab-user/.conda/envs/default/lib/python3.9/site-packages (from packaging->bleach==4.1.0->-r ../requirements.txt (line 1)) (3.0.6)\n",
      "Requirement already satisfied: traitlets>=4.3.2 in /home/studio-lab-user/.conda/envs/default/lib/python3.9/site-packages (from pydeck>=0.1.dev5->streamlit==1.5.1->-r ../requirements.txt (line 6)) (5.1.1)\n",
      "Requirement already satisfied: ipywidgets>=7.0.0 in /home/studio-lab-user/.conda/envs/default/lib/python3.9/site-packages (from pydeck>=0.1.dev5->streamlit==1.5.1->-r ../requirements.txt (line 6)) (7.6.5)\n",
      "Requirement already satisfied: ipykernel>=5.1.2 in /home/studio-lab-user/.conda/envs/default/lib/python3.9/site-packages (from pydeck>=0.1.dev5->streamlit==1.5.1->-r ../requirements.txt (line 6)) (6.4.2)\n",
      "Requirement already satisfied: jupyter-client<8.0 in /home/studio-lab-user/.conda/envs/default/lib/python3.9/site-packages (from ipykernel>=5.1.2->pydeck>=0.1.dev5->streamlit==1.5.1->-r ../requirements.txt (line 6)) (7.1.0)\n",
      "Requirement already satisfied: ipython-genutils in /home/studio-lab-user/.conda/envs/default/lib/python3.9/site-packages (from ipykernel>=5.1.2->pydeck>=0.1.dev5->streamlit==1.5.1->-r ../requirements.txt (line 6)) (0.2.0)\n",
      "Requirement already satisfied: debugpy<2.0,>=1.0.0 in /home/studio-lab-user/.conda/envs/default/lib/python3.9/site-packages (from ipykernel>=5.1.2->pydeck>=0.1.dev5->streamlit==1.5.1->-r ../requirements.txt (line 6)) (1.5.1)\n",
      "Requirement already satisfied: matplotlib-inline<0.2.0,>=0.1.0 in /home/studio-lab-user/.conda/envs/default/lib/python3.9/site-packages (from ipykernel>=5.1.2->pydeck>=0.1.dev5->streamlit==1.5.1->-r ../requirements.txt (line 6)) (0.1.3)\n",
      "Requirement already satisfied: ipython<8.0,>=7.23.1 in /home/studio-lab-user/.conda/envs/default/lib/python3.9/site-packages (from ipykernel>=5.1.2->pydeck>=0.1.dev5->streamlit==1.5.1->-r ../requirements.txt (line 6)) (7.30.1)\n",
      "Requirement already satisfied: decorator in /home/studio-lab-user/.conda/envs/default/lib/python3.9/site-packages (from ipython<8.0,>=7.23.1->ipykernel>=5.1.2->pydeck>=0.1.dev5->streamlit==1.5.1->-r ../requirements.txt (line 6)) (5.1.0)\n",
      "Requirement already satisfied: backcall in /home/studio-lab-user/.conda/envs/default/lib/python3.9/site-packages (from ipython<8.0,>=7.23.1->ipykernel>=5.1.2->pydeck>=0.1.dev5->streamlit==1.5.1->-r ../requirements.txt (line 6)) (0.2.0)\n",
      "Requirement already satisfied: jedi>=0.16 in /home/studio-lab-user/.conda/envs/default/lib/python3.9/site-packages (from ipython<8.0,>=7.23.1->ipykernel>=5.1.2->pydeck>=0.1.dev5->streamlit==1.5.1->-r ../requirements.txt (line 6)) (0.18.1)\n",
      "Requirement already satisfied: pexpect>4.3 in /home/studio-lab-user/.conda/envs/default/lib/python3.9/site-packages (from ipython<8.0,>=7.23.1->ipykernel>=5.1.2->pydeck>=0.1.dev5->streamlit==1.5.1->-r ../requirements.txt (line 6)) (4.8.0)\n",
      "Requirement already satisfied: pygments in /home/studio-lab-user/.conda/envs/default/lib/python3.9/site-packages (from ipython<8.0,>=7.23.1->ipykernel>=5.1.2->pydeck>=0.1.dev5->streamlit==1.5.1->-r ../requirements.txt (line 6)) (2.10.0)\n",
      "Requirement already satisfied: pickleshare in /home/studio-lab-user/.conda/envs/default/lib/python3.9/site-packages (from ipython<8.0,>=7.23.1->ipykernel>=5.1.2->pydeck>=0.1.dev5->streamlit==1.5.1->-r ../requirements.txt (line 6)) (0.7.5)\n",
      "Requirement already satisfied: prompt-toolkit!=3.0.0,!=3.0.1,<3.1.0,>=2.0.0 in /home/studio-lab-user/.conda/envs/default/lib/python3.9/site-packages (from ipython<8.0,>=7.23.1->ipykernel>=5.1.2->pydeck>=0.1.dev5->streamlit==1.5.1->-r ../requirements.txt (line 6)) (3.0.22)\n",
      "Requirement already satisfied: nbformat>=4.2.0 in /home/studio-lab-user/.conda/envs/default/lib/python3.9/site-packages (from ipywidgets>=7.0.0->pydeck>=0.1.dev5->streamlit==1.5.1->-r ../requirements.txt (line 6)) (5.1.3)\n",
      "Requirement already satisfied: jupyterlab-widgets>=1.0.0 in /home/studio-lab-user/.conda/envs/default/lib/python3.9/site-packages (from ipywidgets>=7.0.0->pydeck>=0.1.dev5->streamlit==1.5.1->-r ../requirements.txt (line 6)) (1.0.2)\n",
      "Requirement already satisfied: widgetsnbextension~=3.5.0 in /home/studio-lab-user/.conda/envs/default/lib/python3.9/site-packages (from ipywidgets>=7.0.0->pydeck>=0.1.dev5->streamlit==1.5.1->-r ../requirements.txt (line 6)) (3.5.2)\n",
      "Requirement already satisfied: parso<0.9.0,>=0.8.0 in /home/studio-lab-user/.conda/envs/default/lib/python3.9/site-packages (from jedi>=0.16->ipython<8.0,>=7.23.1->ipykernel>=5.1.2->pydeck>=0.1.dev5->streamlit==1.5.1->-r ../requirements.txt (line 6)) (0.8.3)\n",
      "Requirement already satisfied: MarkupSafe>=2.0 in /home/studio-lab-user/.conda/envs/default/lib/python3.9/site-packages (from jinja2->altair>=3.2.0->streamlit==1.5.1->-r ../requirements.txt (line 6)) (2.0.1)\n",
      "Requirement already satisfied: pyzmq>=13 in /home/studio-lab-user/.conda/envs/default/lib/python3.9/site-packages (from jupyter-client<8.0->ipykernel>=5.1.2->pydeck>=0.1.dev5->streamlit==1.5.1->-r ../requirements.txt (line 6)) (22.3.0)\n",
      "Requirement already satisfied: nest-asyncio>=1.5 in /home/studio-lab-user/.conda/envs/default/lib/python3.9/site-packages (from jupyter-client<8.0->ipykernel>=5.1.2->pydeck>=0.1.dev5->streamlit==1.5.1->-r ../requirements.txt (line 6)) (1.5.4)\n",
      "Requirement already satisfied: jupyter-core>=4.6.0 in /home/studio-lab-user/.conda/envs/default/lib/python3.9/site-packages (from jupyter-client<8.0->ipykernel>=5.1.2->pydeck>=0.1.dev5->streamlit==1.5.1->-r ../requirements.txt (line 6)) (4.9.1)\n",
      "Requirement already satisfied: ptyprocess>=0.5 in /home/studio-lab-user/.conda/envs/default/lib/python3.9/site-packages (from pexpect>4.3->ipython<8.0,>=7.23.1->ipykernel>=5.1.2->pydeck>=0.1.dev5->streamlit==1.5.1->-r ../requirements.txt (line 6)) (0.7.0)\n",
      "Requirement already satisfied: wcwidth in /home/studio-lab-user/.conda/envs/default/lib/python3.9/site-packages (from prompt-toolkit!=3.0.0,!=3.0.1,<3.1.0,>=2.0.0->ipython<8.0,>=7.23.1->ipykernel>=5.1.2->pydeck>=0.1.dev5->streamlit==1.5.1->-r ../requirements.txt (line 6)) (0.2.5)\n",
      "Requirement already satisfied: urllib3<1.27,>=1.21.1 in /home/studio-lab-user/.conda/envs/default/lib/python3.9/site-packages (from requests>=2.22.0->nlpaug==1.1.10->-r ../requirements.txt (line 3)) (1.26.9)\n",
      "Requirement already satisfied: idna<4,>=2.5 in /home/studio-lab-user/.conda/envs/default/lib/python3.9/site-packages (from requests>=2.22.0->nlpaug==1.1.10->-r ../requirements.txt (line 3)) (3.3)\n",
      "Requirement already satisfied: certifi>=2017.4.17 in /home/studio-lab-user/.conda/envs/default/lib/python3.9/site-packages (from requests>=2.22.0->nlpaug==1.1.10->-r ../requirements.txt (line 3)) (2021.10.8)\n",
      "Requirement already satisfied: charset-normalizer~=2.0.0 in /home/studio-lab-user/.conda/envs/default/lib/python3.9/site-packages (from requests>=2.22.0->nlpaug==1.1.10->-r ../requirements.txt (line 3)) (2.0.12)\n",
      "Requirement already satisfied: google-auth-oauthlib<0.5,>=0.4.1 in /home/studio-lab-user/.conda/envs/default/lib/python3.9/site-packages (from tensorboard<2.9,>=2.8->tensorflow==2.8.0->-r ../requirements.txt (line 7)) (0.4.6)\n",
      "Requirement already satisfied: tensorboard-data-server<0.7.0,>=0.6.0 in /home/studio-lab-user/.conda/envs/default/lib/python3.9/site-packages (from tensorboard<2.9,>=2.8->tensorflow==2.8.0->-r ../requirements.txt (line 7)) (0.6.1)\n",
      "Requirement already satisfied: google-auth<3,>=1.6.3 in /home/studio-lab-user/.conda/envs/default/lib/python3.9/site-packages (from tensorboard<2.9,>=2.8->tensorflow==2.8.0->-r ../requirements.txt (line 7)) (2.6.2)\n",
      "Requirement already satisfied: werkzeug>=0.11.15 in /home/studio-lab-user/.conda/envs/default/lib/python3.9/site-packages (from tensorboard<2.9,>=2.8->tensorflow==2.8.0->-r ../requirements.txt (line 7)) (2.0.3)\n",
      "Requirement already satisfied: tensorboard-plugin-wit>=1.6.0 in /home/studio-lab-user/.conda/envs/default/lib/python3.9/site-packages (from tensorboard<2.9,>=2.8->tensorflow==2.8.0->-r ../requirements.txt (line 7)) (1.8.1)\n",
      "Requirement already satisfied: markdown>=2.6.8 in /home/studio-lab-user/.conda/envs/default/lib/python3.9/site-packages (from tensorboard<2.9,>=2.8->tensorflow==2.8.0->-r ../requirements.txt (line 7)) (3.3.6)\n",
      "Requirement already satisfied: pyasn1-modules>=0.2.1 in /home/studio-lab-user/.conda/envs/default/lib/python3.9/site-packages (from google-auth<3,>=1.6.3->tensorboard<2.9,>=2.8->tensorflow==2.8.0->-r ../requirements.txt (line 7)) (0.2.8)\n",
      "Requirement already satisfied: rsa<5,>=3.1.4 in /home/studio-lab-user/.conda/envs/default/lib/python3.9/site-packages (from google-auth<3,>=1.6.3->tensorboard<2.9,>=2.8->tensorflow==2.8.0->-r ../requirements.txt (line 7)) (4.8)\n",
      "Requirement already satisfied: requests-oauthlib>=0.7.0 in /home/studio-lab-user/.conda/envs/default/lib/python3.9/site-packages (from google-auth-oauthlib<0.5,>=0.4.1->tensorboard<2.9,>=2.8->tensorflow==2.8.0->-r ../requirements.txt (line 7)) (1.3.1)\n",
      "Requirement already satisfied: importlib-metadata>=4.4 in /home/studio-lab-user/.conda/envs/default/lib/python3.9/site-packages (from markdown>=2.6.8->tensorboard<2.9,>=2.8->tensorflow==2.8.0->-r ../requirements.txt (line 7)) (4.8.2)\n",
      "Requirement already satisfied: zipp>=0.5 in /home/studio-lab-user/.conda/envs/default/lib/python3.9/site-packages (from importlib-metadata>=4.4->markdown>=2.6.8->tensorboard<2.9,>=2.8->tensorflow==2.8.0->-r ../requirements.txt (line 7)) (3.6.0)\n",
      "Requirement already satisfied: pyasn1<0.5.0,>=0.4.6 in /home/studio-lab-user/.conda/envs/default/lib/python3.9/site-packages (from pyasn1-modules>=0.2.1->google-auth<3,>=1.6.3->tensorboard<2.9,>=2.8->tensorflow==2.8.0->-r ../requirements.txt (line 7)) (0.4.8)\n",
      "Requirement already satisfied: oauthlib>=3.0.0 in /home/studio-lab-user/.conda/envs/default/lib/python3.9/site-packages (from requests-oauthlib>=0.7.0->google-auth-oauthlib<0.5,>=0.4.1->tensorboard<2.9,>=2.8->tensorflow==2.8.0->-r ../requirements.txt (line 7)) (3.2.0)\n",
      "Requirement already satisfied: notebook>=4.4.1 in /home/studio-lab-user/.conda/envs/default/lib/python3.9/site-packages (from widgetsnbextension~=3.5.0->ipywidgets>=7.0.0->pydeck>=0.1.dev5->streamlit==1.5.1->-r ../requirements.txt (line 6)) (6.4.6)\n",
      "Requirement already satisfied: argon2-cffi in /home/studio-lab-user/.conda/envs/default/lib/python3.9/site-packages (from notebook>=4.4.1->widgetsnbextension~=3.5.0->ipywidgets>=7.0.0->pydeck>=0.1.dev5->streamlit==1.5.1->-r ../requirements.txt (line 6)) (21.1.0)\n",
      "Requirement already satisfied: nbconvert in /home/studio-lab-user/.conda/envs/default/lib/python3.9/site-packages (from notebook>=4.4.1->widgetsnbextension~=3.5.0->ipywidgets>=7.0.0->pydeck>=0.1.dev5->streamlit==1.5.1->-r ../requirements.txt (line 6)) (6.3.0)\n",
      "Requirement already satisfied: terminado>=0.8.3 in /home/studio-lab-user/.conda/envs/default/lib/python3.9/site-packages (from notebook>=4.4.1->widgetsnbextension~=3.5.0->ipywidgets>=7.0.0->pydeck>=0.1.dev5->streamlit==1.5.1->-r ../requirements.txt (line 6)) (0.12.1)\n",
      "Requirement already satisfied: prometheus-client in /home/studio-lab-user/.conda/envs/default/lib/python3.9/site-packages (from notebook>=4.4.1->widgetsnbextension~=3.5.0->ipywidgets>=7.0.0->pydeck>=0.1.dev5->streamlit==1.5.1->-r ../requirements.txt (line 6)) (0.12.0)\n",
      "Requirement already satisfied: Send2Trash>=1.8.0 in /home/studio-lab-user/.conda/envs/default/lib/python3.9/site-packages (from notebook>=4.4.1->widgetsnbextension~=3.5.0->ipywidgets>=7.0.0->pydeck>=0.1.dev5->streamlit==1.5.1->-r ../requirements.txt (line 6)) (1.8.0)\n",
      "Requirement already satisfied: cffi>=1.0.0 in /home/studio-lab-user/.conda/envs/default/lib/python3.9/site-packages (from argon2-cffi->notebook>=4.4.1->widgetsnbextension~=3.5.0->ipywidgets>=7.0.0->pydeck>=0.1.dev5->streamlit==1.5.1->-r ../requirements.txt (line 6)) (1.15.0)\n",
      "Requirement already satisfied: pycparser in /home/studio-lab-user/.conda/envs/default/lib/python3.9/site-packages (from cffi>=1.0.0->argon2-cffi->notebook>=4.4.1->widgetsnbextension~=3.5.0->ipywidgets>=7.0.0->pydeck>=0.1.dev5->streamlit==1.5.1->-r ../requirements.txt (line 6)) (2.21)\n",
      "Requirement already satisfied: jupyterlab-pygments in /home/studio-lab-user/.conda/envs/default/lib/python3.9/site-packages (from nbconvert->notebook>=4.4.1->widgetsnbextension~=3.5.0->ipywidgets>=7.0.0->pydeck>=0.1.dev5->streamlit==1.5.1->-r ../requirements.txt (line 6)) (0.1.2)\n",
      "Requirement already satisfied: pandocfilters>=1.4.1 in /home/studio-lab-user/.conda/envs/default/lib/python3.9/site-packages (from nbconvert->notebook>=4.4.1->widgetsnbextension~=3.5.0->ipywidgets>=7.0.0->pydeck>=0.1.dev5->streamlit==1.5.1->-r ../requirements.txt (line 6)) (1.5.0)\n",
      "Requirement already satisfied: mistune<2,>=0.8.1 in /home/studio-lab-user/.conda/envs/default/lib/python3.9/site-packages (from nbconvert->notebook>=4.4.1->widgetsnbextension~=3.5.0->ipywidgets>=7.0.0->pydeck>=0.1.dev5->streamlit==1.5.1->-r ../requirements.txt (line 6)) (0.8.4)\n",
      "Requirement already satisfied: testpath in /home/studio-lab-user/.conda/envs/default/lib/python3.9/site-packages (from nbconvert->notebook>=4.4.1->widgetsnbextension~=3.5.0->ipywidgets>=7.0.0->pydeck>=0.1.dev5->streamlit==1.5.1->-r ../requirements.txt (line 6)) (0.5.0)\n",
      "Requirement already satisfied: nbclient<0.6.0,>=0.5.0 in /home/studio-lab-user/.conda/envs/default/lib/python3.9/site-packages (from nbconvert->notebook>=4.4.1->widgetsnbextension~=3.5.0->ipywidgets>=7.0.0->pydeck>=0.1.dev5->streamlit==1.5.1->-r ../requirements.txt (line 6)) (0.5.9)\n",
      "Requirement already satisfied: defusedxml in /home/studio-lab-user/.conda/envs/default/lib/python3.9/site-packages (from nbconvert->notebook>=4.4.1->widgetsnbextension~=3.5.0->ipywidgets>=7.0.0->pydeck>=0.1.dev5->streamlit==1.5.1->-r ../requirements.txt (line 6)) (0.7.1)\n",
      "Requirement already satisfied: joblib in /home/studio-lab-user/.conda/envs/default/lib/python3.9/site-packages (from sacremoses->transformers==4.16.2->-r ../requirements.txt (line 8)) (1.1.0)\n",
      "Requirement already satisfied: pytz-deprecation-shim in /home/studio-lab-user/.conda/envs/default/lib/python3.9/site-packages (from tzlocal->streamlit==1.5.1->-r ../requirements.txt (line 6)) (0.1.0.post0)\n",
      "Requirement already satisfied: tzdata in /home/studio-lab-user/.conda/envs/default/lib/python3.9/site-packages (from pytz-deprecation-shim->tzlocal->streamlit==1.5.1->-r ../requirements.txt (line 6)) (2022.1)\n",
      "Requirement already satisfied: sklearn in /home/studio-lab-user/.conda/envs/default/lib/python3.9/site-packages (0.0)\n",
      "Requirement already satisfied: scikit-learn in /home/studio-lab-user/.conda/envs/default/lib/python3.9/site-packages (from sklearn) (1.0.2)\n",
      "Requirement already satisfied: scipy>=1.1.0 in /home/studio-lab-user/.conda/envs/default/lib/python3.9/site-packages (from scikit-learn->sklearn) (1.8.0)\n",
      "Requirement already satisfied: numpy>=1.14.6 in /home/studio-lab-user/.conda/envs/default/lib/python3.9/site-packages (from scikit-learn->sklearn) (1.22.2)\n",
      "Requirement already satisfied: threadpoolctl>=2.0.0 in /home/studio-lab-user/.conda/envs/default/lib/python3.9/site-packages (from scikit-learn->sklearn) (3.1.0)\n",
      "Requirement already satisfied: joblib>=0.11 in /home/studio-lab-user/.conda/envs/default/lib/python3.9/site-packages (from scikit-learn->sklearn) (1.1.0)\n",
      "Requirement already satisfied: tensorflow in /home/studio-lab-user/.conda/envs/default/lib/python3.9/site-packages (2.8.0)\n",
      "Collecting addons\n",
      "  Using cached AddOns-0.7.zip (34 kB)\n",
      "\u001b[31m    ERROR: Command errored out with exit status 1:\n",
      "     command: /home/studio-lab-user/.conda/envs/default/bin/python3.9 -c 'import io, os, sys, setuptools, tokenize; sys.argv[0] = '\"'\"'/tmp/pip-install-7vcizo02/addons_10f2db34e88a412c94ba1cb00a5f70d5/setup.py'\"'\"'; __file__='\"'\"'/tmp/pip-install-7vcizo02/addons_10f2db34e88a412c94ba1cb00a5f70d5/setup.py'\"'\"';f = getattr(tokenize, '\"'\"'open'\"'\"', open)(__file__) if os.path.exists(__file__) else io.StringIO('\"'\"'from setuptools import setup; setup()'\"'\"');code = f.read().replace('\"'\"'\\r\\n'\"'\"', '\"'\"'\\n'\"'\"');f.close();exec(compile(code, __file__, '\"'\"'exec'\"'\"'))' egg_info --egg-base /tmp/pip-pip-egg-info-_izrymyc\n",
      "         cwd: /tmp/pip-install-7vcizo02/addons_10f2db34e88a412c94ba1cb00a5f70d5/\n",
      "    Complete output (8 lines):\n",
      "    Traceback (most recent call last):\n",
      "      File \"<string>\", line 1, in <module>\n",
      "      File \"/tmp/pip-install-7vcizo02/addons_10f2db34e88a412c94ba1cb00a5f70d5/setup.py\", line 4, in <module>\n",
      "        import ez_setup\n",
      "      File \"/tmp/pip-install-7vcizo02/addons_10f2db34e88a412c94ba1cb00a5f70d5/ez_setup/__init__.py\", line 98\n",
      "        except pkg_resources.VersionConflict, e:\n",
      "                                            ^\n",
      "    SyntaxError: invalid syntax\n",
      "    ----------------------------------------\u001b[0m\n",
      "\u001b[33mWARNING: Discarding https://files.pythonhosted.org/packages/4c/ff/aa57125eaab21e8ea5107138c6fb79b7ff7b96c7475cbe9ce01a0a62b99f/AddOns-0.7.zip#sha256=4d5f248c31db312081a3d562d1de433971e6cd2e94aeb00c4ebc08e22ea8f15c (from https://pypi.org/simple/addons/). Command errored out with exit status 1: python setup.py egg_info Check the logs for full command output.\u001b[0m\n",
      "  Using cached AddOns-0.6.zip (33 kB)\n",
      "\u001b[31m    ERROR: Command errored out with exit status 1:\n",
      "     command: /home/studio-lab-user/.conda/envs/default/bin/python3.9 -c 'import io, os, sys, setuptools, tokenize; sys.argv[0] = '\"'\"'/tmp/pip-install-7vcizo02/addons_89af63c5571d42eda8f5a3f4dc873d02/setup.py'\"'\"'; __file__='\"'\"'/tmp/pip-install-7vcizo02/addons_89af63c5571d42eda8f5a3f4dc873d02/setup.py'\"'\"';f = getattr(tokenize, '\"'\"'open'\"'\"', open)(__file__) if os.path.exists(__file__) else io.StringIO('\"'\"'from setuptools import setup; setup()'\"'\"');code = f.read().replace('\"'\"'\\r\\n'\"'\"', '\"'\"'\\n'\"'\"');f.close();exec(compile(code, __file__, '\"'\"'exec'\"'\"'))' egg_info --egg-base /tmp/pip-pip-egg-info-aau9_jth\n",
      "         cwd: /tmp/pip-install-7vcizo02/addons_89af63c5571d42eda8f5a3f4dc873d02/\n",
      "    Complete output (8 lines):\n",
      "    Traceback (most recent call last):\n",
      "      File \"<string>\", line 1, in <module>\n",
      "      File \"/tmp/pip-install-7vcizo02/addons_89af63c5571d42eda8f5a3f4dc873d02/setup.py\", line 4, in <module>\n",
      "        import ez_setup\n",
      "      File \"/tmp/pip-install-7vcizo02/addons_89af63c5571d42eda8f5a3f4dc873d02/ez_setup/__init__.py\", line 94\n",
      "        except pkg_resources.VersionConflict, e:\n",
      "                                            ^\n",
      "    SyntaxError: invalid syntax\n",
      "    ----------------------------------------\u001b[0m\n",
      "\u001b[33mWARNING: Discarding https://files.pythonhosted.org/packages/ee/e9/03898d175ac65a5bddef523c130382a4cfef90e9628cb01de5e485222bb0/AddOns-0.6.zip#sha256=65999ce99aaf4ba263be3d25f138eab2bd471a74c5f6a1c8022629a149e7099a (from https://pypi.org/simple/addons/). Command errored out with exit status 1: python setup.py egg_info Check the logs for full command output.\u001b[0m\n",
      "\u001b[31mERROR: Could not find a version that satisfies the requirement addons (from versions: 0.6, 0.7)\u001b[0m\n",
      "\u001b[31mERROR: No matching distribution found for addons\u001b[0m\n"
     ]
    }
   ],
   "source": [
    "!pip install -r ../requirements.txt\n",
    "!pip install sklearn\n",
    "!pip install tensorflow addons"
   ]
  },
  {
   "cell_type": "code",
   "execution_count": 2,
   "id": "68aea91f",
   "metadata": {
    "scrolled": true,
    "tags": []
   },
   "outputs": [
    {
     "name": "stderr",
     "output_type": "stream",
     "text": [
      "2022-03-29 08:16:59.402797: W tensorflow/stream_executor/platform/default/dso_loader.cc:64] Could not load dynamic library 'libcudart.so.11.0'; dlerror: libcudart.so.11.0: cannot open shared object file: No such file or directory\n",
      "2022-03-29 08:16:59.402829: I tensorflow/stream_executor/cuda/cudart_stub.cc:29] Ignore above cudart dlerror if you do not have a GPU set up on your machine.\n"
     ]
    }
   ],
   "source": [
    "import tensorflow as tf\n",
    "import pandas as pd\n",
    "from sklearn.metrics import classification_report\n",
    "from transformers import RobertaTokenizerFast, TFRobertaForSequenceClassification, pipeline\n",
    "from collections import Counter\n",
    "\n",
    "MAX_LENGTH = 200# Define the maximum number of words to tokenize (DistilBERT can tokenize up to 512)"
   ]
  },
  {
   "cell_type": "markdown",
   "id": "0839e0de-d0d2-4271-bc1f-4c129c81f190",
   "metadata": {},
   "source": [
    "# Create the model"
   ]
  },
  {
   "cell_type": "code",
   "execution_count": 3,
   "id": "5aec0a9b-0a17-474f-a6a9-e5cc56dfd3c8",
   "metadata": {},
   "outputs": [
    {
     "name": "stderr",
     "output_type": "stream",
     "text": [
      "2022-03-29 08:17:08.747518: W tensorflow/stream_executor/platform/default/dso_loader.cc:64] Could not load dynamic library 'libcuda.so.1'; dlerror: libcuda.so.1: cannot open shared object file: No such file or directory\n",
      "2022-03-29 08:17:08.747554: W tensorflow/stream_executor/cuda/cuda_driver.cc:269] failed call to cuInit: UNKNOWN ERROR (303)\n",
      "2022-03-29 08:17:08.747577: I tensorflow/stream_executor/cuda/cuda_diagnostics.cc:156] kernel driver does not appear to be running on this host (default): /proc/driver/nvidia/version does not exist\n",
      "2022-03-29 08:17:08.750320: I tensorflow/core/platform/cpu_feature_guard.cc:151] This TensorFlow binary is optimized with oneAPI Deep Neural Network Library (oneDNN) to use the following CPU instructions in performance-critical operations:  AVX2 AVX512F FMA\n",
      "To enable them in other operations, rebuild TensorFlow with the appropriate compiler flags.\n",
      "All model checkpoint layers were used when initializing TFRobertaForSequenceClassification.\n",
      "\n",
      "All the layers of TFRobertaForSequenceClassification were initialized from the model checkpoint at arpanghoshal/EmoRoBERTa.\n",
      "If your task is similar to the task the model of the checkpoint was trained on, you can already use TFRobertaForSequenceClassification for predictions without further training.\n"
     ]
    }
   ],
   "source": [
    "tokenizer = RobertaTokenizerFast.from_pretrained(\"arpanghoshal/EmoRoBERTa\",from_tf=True,)\n",
    "model = TFRobertaForSequenceClassification.from_pretrained(\"arpanghoshal/EmoRoBERTa\",)"
   ]
  },
  {
   "cell_type": "markdown",
   "id": "35e955f6-73dc-4974-b8e7-29c6bfba75a7",
   "metadata": {},
   "source": [
    "# Load and transform the data"
   ]
  },
  {
   "cell_type": "code",
   "execution_count": 4,
   "id": "7c27dd22",
   "metadata": {},
   "outputs": [],
   "source": [
    "datasets = pd.read_csv('../datasets/train_preprocessed.csv').dropna()\n",
    "X_train,y_train = datasets[\"content\"].astype(\"string\"),datasets[\"sentiment\"].astype(\"category\").cat.codes"
   ]
  },
  {
   "cell_type": "code",
   "execution_count": 5,
   "id": "c5fe054d",
   "metadata": {},
   "outputs": [],
   "source": [
    "# Define function to encode text data in batches\n",
    "def batch_encode(tokenizer, texts, batch_size=256, max_length=MAX_LENGTH):\n",
    "    \"\"\"\"\"\"\"\"\"\n",
    "    A function that encodes a batch of texts and returns the texts'\n",
    "    corresponding encodings and attention masks that are ready to be fed \n",
    "    into a pre-trained transformer model.\n",
    "    \n",
    "    Input:\n",
    "        - tokenizer:   Tokenizer object from the PreTrainedTokenizer Class\n",
    "        - texts:       List of strings where each string represents a text\n",
    "        - batch_size:  Integer controlling number of texts in a batch\n",
    "        - max_length:  Integer controlling max number of words to tokenize in a given text\n",
    "    Output:\n",
    "        - input_ids:       sequence of texts encoded as a tf.Tensor object\n",
    "        - attention_mask:  the texts' attention mask encoded as a tf.Tensor object\n",
    "    \"\"\"\"\"\"\"\"\"\n",
    "    \n",
    "    input_ids = []\n",
    "    attention_mask = []\n",
    "    \n",
    "    for i in range(0, len(texts), batch_size):\n",
    "        batch = texts[i:i+batch_size]\n",
    "        inputs = tokenizer.batch_encode_plus(batch,\n",
    "                                             max_length=max_length,\n",
    "                                             padding='max_length', #implements dynamic padding\n",
    "                                             truncation=True,\n",
    "                                             return_attention_mask=True,\n",
    "                                             return_token_type_ids=False\n",
    "                                             )\n",
    "        input_ids.extend(inputs['input_ids'])\n",
    "        attention_mask.extend(inputs['attention_mask'])\n",
    "    \n",
    "    \n",
    "    return tf.convert_to_tensor(input_ids), tf.convert_to_tensor(attention_mask)\n",
    "    \n",
    "    \n",
    "# Encode X_train\n",
    "X_train_ids, X_train_attention = batch_encode(tokenizer, X_train.tolist())"
   ]
  },
  {
   "cell_type": "markdown",
   "id": "9d5547ed-a768-405a-b22d-212d43813261",
   "metadata": {},
   "source": [
    "# Create and compile the model"
   ]
  },
  {
   "cell_type": "code",
   "execution_count": 6,
   "id": "14886384",
   "metadata": {},
   "outputs": [],
   "source": [
    "input_ids_layer = tf.keras.layers.Input(shape=(200,), \n",
    "                                        name='input_ids', \n",
    "                                        dtype='int32')\n",
    "input_attention_layer = tf.keras.layers.Input(shape=(200,), \n",
    "                                              name='input_attention', \n",
    "                                              dtype='int32')\n",
    "last_hidden_state = model.roberta([input_ids_layer, input_attention_layer])[0]\n",
    "\n",
    "one_more = tf.keras.layers.AveragePooling1D(1,200)(last_hidden_state)\n",
    "pooling = tf.keras.layers.Reshape((768,))(one_more)\n",
    "output = tf.keras.layers.Dense(13,activation='softmax')(pooling)\n",
    "roberta = tf.keras.Model([input_ids_layer, input_attention_layer], output)"
   ]
  },
  {
   "cell_type": "code",
   "execution_count": 7,
   "id": "504c4ddd",
   "metadata": {},
   "outputs": [],
   "source": [
    "params = {'optimizer':tf.keras.optimizers.Adam(learning_rate=1e-4),\n",
    "          'loss':tf.keras.losses.CategoricalCrossentropy(),\n",
    "          'metrics':[\"accuracy\"],# tf.keras.metrics.top_k_categorical_accuracy(k=3)\n",
    "}\n",
    "roberta.compile(**params)"
   ]
  },
  {
   "cell_type": "code",
   "execution_count": 8,
   "id": "20f37c4b",
   "metadata": {},
   "outputs": [
    {
     "name": "stdout",
     "output_type": "stream",
     "text": [
      "Model: \"model\"\n",
      "__________________________________________________________________________________________________\n",
      " Layer (type)                   Output Shape         Param #     Connected to                     \n",
      "==================================================================================================\n",
      " input_ids (InputLayer)         [(None, 200)]        0           []                               \n",
      "                                                                                                  \n",
      " input_attention (InputLayer)   [(None, 200)]        0           []                               \n",
      "                                                                                                  \n",
      " roberta (TFRobertaMainLayer)   TFBaseModelOutputWi  124055040   ['input_ids[0][0]',              \n",
      "                                thPoolingAndCrossAt               'input_attention[0][0]']        \n",
      "                                tentions(last_hidde                                               \n",
      "                                n_state=(None, 200,                                               \n",
      "                                 768),                                                            \n",
      "                                 pooler_output=None                                               \n",
      "                                , past_key_values=N                                               \n",
      "                                one, hidden_states=                                               \n",
      "                                None, attentions=No                                               \n",
      "                                ne, cross_attention                                               \n",
      "                                s=None)                                                           \n",
      "                                                                                                  \n",
      " average_pooling1d (AveragePool  (None, 1, 768)      0           ['roberta[0][0]']                \n",
      " ing1D)                                                                                           \n",
      "                                                                                                  \n",
      " reshape (Reshape)              (None, 768)          0           ['average_pooling1d[0][0]']      \n",
      "                                                                                                  \n",
      " dense (Dense)                  (None, 13)           9997        ['reshape[0][0]']                \n",
      "                                                                                                  \n",
      "==================================================================================================\n",
      "Total params: 124,065,037\n",
      "Trainable params: 124,065,037\n",
      "Non-trainable params: 0\n",
      "__________________________________________________________________________________________________\n"
     ]
    }
   ],
   "source": [
    "roberta.summary()"
   ]
  },
  {
   "cell_type": "markdown",
   "id": "42280655-f286-4028-bac8-1bb1a15fa17b",
   "metadata": {},
   "source": [
    "# Created weights for each class and Train"
   ]
  },
  {
   "cell_type": "code",
   "execution_count": 9,
   "id": "7fec1e0b-43b7-41d6-ab50-69c51d6b4577",
   "metadata": {},
   "outputs": [],
   "source": [
    "counts = Counter(y_train)\n",
    "weights = {i:1/j for i,j in counts.items()}"
   ]
  },
  {
   "cell_type": "code",
   "execution_count": null,
   "id": "f456ffc1",
   "metadata": {
    "tags": []
   },
   "outputs": [
    {
     "name": "stdout",
     "output_type": "stream",
     "text": [
      "Epoch 1/8\n",
      "  6/669 [..............................] - ETA: 4:28:37 - loss: 0.0013 - accuracy: 0.0990"
     ]
    }
   ],
   "source": [
    "callbacks = [\n",
    "    tf.keras.callbacks.ModelCheckpoint(filepath=\"./esign_checkpoint/\",save_best_only=True,save_weights_only=False),\n",
    "    tf.keras.callbacks.EarlyStopping(patience=2,)\n",
    "]\n",
    "\n",
    "roberta.fit(x=[X_train_ids,X_train_attention],\n",
    "            y=pd.get_dummies(y_train),\n",
    "            batch_size=32,\n",
    "            epochs = 8,\n",
    "            workers = -1,\n",
    "            validation_split=0.2,\n",
    "            callbacks = callbacks,\n",
    "            class_weight = weights\n",
    "           )"
   ]
  },
  {
   "cell_type": "code",
   "execution_count": 20,
   "id": "359b74eb-3ee6-4b3a-b972-9aeefa0d9b67",
   "metadata": {},
   "outputs": [],
   "source": [
    "# model.save_weights('./saved_weights.h5')"
   ]
  },
  {
   "cell_type": "code",
   "execution_count": 3,
   "id": "4eae2603-a413-48ca-8418-0425c11ae2aa",
   "metadata": {},
   "outputs": [
    {
     "ename": "ModuleNotFoundError",
     "evalue": "No module named 'sklearn'",
     "output_type": "error",
     "traceback": [
      "\u001b[0;31m---------------------------------------------------------------------------\u001b[0m",
      "\u001b[0;31mModuleNotFoundError\u001b[0m                       Traceback (most recent call last)",
      "\u001b[0;32m/tmp/ipykernel_51/282115371.py\u001b[0m in \u001b[0;36m<module>\u001b[0;34m\u001b[0m\n\u001b[0;32m----> 1\u001b[0;31m \u001b[0;32mfrom\u001b[0m \u001b[0msklearn\u001b[0m\u001b[0;34m.\u001b[0m\u001b[0mmetrics\u001b[0m \u001b[0;32mimport\u001b[0m \u001b[0mclassification_report\u001b[0m\u001b[0;34m\u001b[0m\u001b[0;34m\u001b[0m\u001b[0m\n\u001b[0m\u001b[1;32m      2\u001b[0m \u001b[0;32mimport\u001b[0m \u001b[0mnumpy\u001b[0m \u001b[0;32mas\u001b[0m \u001b[0mnp\u001b[0m\u001b[0;34m\u001b[0m\u001b[0;34m\u001b[0m\u001b[0m\n\u001b[1;32m      3\u001b[0m \u001b[0;34m\u001b[0m\u001b[0m\n\u001b[1;32m      4\u001b[0m \u001b[0my_pred\u001b[0m \u001b[0;34m=\u001b[0m \u001b[0mnp\u001b[0m\u001b[0;34m.\u001b[0m\u001b[0margmax\u001b[0m\u001b[0;34m(\u001b[0m\u001b[0mmodel\u001b[0m\u001b[0;34m.\u001b[0m\u001b[0mpredict\u001b[0m\u001b[0;34m(\u001b[0m\u001b[0mX_train\u001b[0m\u001b[0;34m)\u001b[0m\u001b[0;34m,\u001b[0m\u001b[0maxis\u001b[0m \u001b[0;34m=\u001b[0m \u001b[0;36m1\u001b[0m\u001b[0;34m)\u001b[0m\u001b[0;34m\u001b[0m\u001b[0;34m\u001b[0m\u001b[0m\n\u001b[1;32m      5\u001b[0m \u001b[0mprint\u001b[0m\u001b[0;34m(\u001b[0m\u001b[0mclassification_report\u001b[0m\u001b[0;34m(\u001b[0m\u001b[0my_train\u001b[0m\u001b[0;34m,\u001b[0m \u001b[0my_pred\u001b[0m\u001b[0;34m)\u001b[0m\u001b[0;34m)\u001b[0m\u001b[0;34m\u001b[0m\u001b[0;34m\u001b[0m\u001b[0m\n",
      "\u001b[0;31mModuleNotFoundError\u001b[0m: No module named 'sklearn'"
     ]
    }
   ],
   "source": [
    "from sklearn.metrics import classification_report\n",
    "import numpy as np\n",
    "\n",
    "y_pred = np.argmax(model.predict(X_train),axis = 1)\n",
    "print(classification_report(y_train, y_pred))"
   ]
  }
 ],
 "metadata": {
  "kernelspec": {
   "display_name": "default:Python",
   "language": "python",
   "name": "conda-env-default-py"
  },
  "language_info": {
   "codemirror_mode": {
    "name": "ipython",
    "version": 3
   },
   "file_extension": ".py",
   "mimetype": "text/x-python",
   "name": "python",
   "nbconvert_exporter": "python",
   "pygments_lexer": "ipython3",
   "version": "3.9.7"
  }
 },
 "nbformat": 4,
 "nbformat_minor": 5
}
