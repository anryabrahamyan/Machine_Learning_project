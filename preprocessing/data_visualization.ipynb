{
 "cells": [
  {
   "cell_type": "code",
   "execution_count": 19,
   "id": "8e5ba3b4",
   "metadata": {},
   "outputs": [],
   "source": [
    "import pandas as pd\n",
    "import matplotlib.pyplot as plt"
   ]
  },
  {
   "cell_type": "code",
   "execution_count": 20,
   "id": "acb46671",
   "metadata": {},
   "outputs": [],
   "source": [
    "#load and remove useless column\n",
    "dataset=pd.read_csv('../datasets/tweet_emotions.csv')\n",
    "dataset.drop(['tweet_id'],inplace=True,axis=1)"
   ]
  },
  {
   "cell_type": "code",
   "execution_count": 21,
   "id": "816ee028",
   "metadata": {},
   "outputs": [
    {
     "data": {
      "image/png": "[encoded data removed]",
      "text/plain": [
       "<Figure size 432x288 with 1 Axes>"
      ]
     },
     "metadata": {
      "needs_background": "light"
     },
     "output_type": "display_data"
    }
   ],
   "source": [
    "#we have a significant dataset imbalance\n",
    "dataset.sentiment.value_counts().plot(kind='bar')\n",
    "plt.show()"
   ]
  },
  {
   "cell_type": "markdown",
   "id": "74ba2ee8",
   "metadata": {},
   "source": [
    "## The dataset imbalance is significant for some categories, so we might need to remove some columns later on."
   ]
  },
  {
   "cell_type": "code",
   "execution_count": 22,
   "id": "c69edae9",
   "metadata": {},
   "outputs": [],
   "source": [
    "dataset['length']=dataset.content.apply(func=lambda x:len(x))"
   ]
  },
  {
   "cell_type": "code",
   "execution_count": 23,
   "id": "235bfe39",
   "metadata": {},
   "outputs": [
    {
     "data": {
      "image/png": "[encoded data removed]",
      "text/plain": [
       "<Figure size 432x288 with 1 Axes>"
      ]
     },
     "metadata": {
      "needs_background": "light"
     },
     "output_type": "display_data"
    }
   ],
   "source": [
    "#the length of the texts seems to be appropriate for the transformers.\n",
    "dataset.length.plot(kind=\"hist\")\n",
    "plt.show()"
   ]
  },
  {
   "cell_type": "code",
   "execution_count": 24,
   "id": "50f2dd6b",
   "metadata": {},
   "outputs": [],
   "source": [
    "#TODO mi hat twitteri preprocessing mtacel vor ankap banery hani"
   ]
  },
  {
   "cell_type": "code",
   "execution_count": 15,
   "id": "8342c582",
   "metadata": {},
   "outputs": [
    {
     "data": {
      "text/html": [
       "<div>\n",
       "<style scoped>\n",
       "    .dataframe tbody tr th:only-of-type {\n",
       "        vertical-align: middle;\n",
       "    }\n",
       "\n",
       "    .dataframe tbody tr th {\n",
       "        vertical-align: top;\n",
       "    }\n",
       "\n",
       "    .dataframe thead th {\n",
       "        text-align: right;\n",
       "    }\n",
       "</style>\n",
       "<table border=\"1\" class=\"dataframe\">\n",
       "  <thead>\n",
       "    <tr style=\"text-align: right;\">\n",
       "      <th></th>\n",
       "      <th>sentiment</th>\n",
       "      <th>content</th>\n",
       "      <th>length</th>\n",
       "    </tr>\n",
       "  </thead>\n",
       "  <tbody>\n",
       "    <tr>\n",
       "      <th>0</th>\n",
       "      <td>empty</td>\n",
       "      <td>@tiffanylue i know  i was listenin to bad habi...</td>\n",
       "      <td>92</td>\n",
       "    </tr>\n",
       "    <tr>\n",
       "      <th>1</th>\n",
       "      <td>sadness</td>\n",
       "      <td>Layin n bed with a headache  ughhhh...waitin o...</td>\n",
       "      <td>60</td>\n",
       "    </tr>\n",
       "    <tr>\n",
       "      <th>2</th>\n",
       "      <td>sadness</td>\n",
       "      <td>Funeral ceremony...gloomy friday...</td>\n",
       "      <td>35</td>\n",
       "    </tr>\n",
       "    <tr>\n",
       "      <th>3</th>\n",
       "      <td>enthusiasm</td>\n",
       "      <td>wants to hang out with friends SOON!</td>\n",
       "      <td>36</td>\n",
       "    </tr>\n",
       "    <tr>\n",
       "      <th>4</th>\n",
       "      <td>neutral</td>\n",
       "      <td>@dannycastillo We want to trade with someone w...</td>\n",
       "      <td>86</td>\n",
       "    </tr>\n",
       "    <tr>\n",
       "      <th>...</th>\n",
       "      <td>...</td>\n",
       "      <td>...</td>\n",
       "      <td>...</td>\n",
       "    </tr>\n",
       "    <tr>\n",
       "      <th>39995</th>\n",
       "      <td>neutral</td>\n",
       "      <td>@JohnLloydTaylor</td>\n",
       "      <td>16</td>\n",
       "    </tr>\n",
       "    <tr>\n",
       "      <th>39996</th>\n",
       "      <td>love</td>\n",
       "      <td>Happy Mothers Day  All my love</td>\n",
       "      <td>30</td>\n",
       "    </tr>\n",
       "    <tr>\n",
       "      <th>39997</th>\n",
       "      <td>love</td>\n",
       "      <td>Happy Mother's Day to all the mommies out ther...</td>\n",
       "      <td>123</td>\n",
       "    </tr>\n",
       "    <tr>\n",
       "      <th>39998</th>\n",
       "      <td>happiness</td>\n",
       "      <td>@niariley WASSUP BEAUTIFUL!!! FOLLOW ME!!  PEE...</td>\n",
       "      <td>122</td>\n",
       "    </tr>\n",
       "    <tr>\n",
       "      <th>39999</th>\n",
       "      <td>love</td>\n",
       "      <td>@mopedronin bullet train from tokyo    the gf ...</td>\n",
       "      <td>132</td>\n",
       "    </tr>\n",
       "  </tbody>\n",
       "</table>\n",
       "<p>40000 rows × 3 columns</p>\n",
       "</div>"
      ],
      "text/plain": [
       "        sentiment                                            content  length\n",
       "0           empty  @tiffanylue i know  i was listenin to bad habi...      92\n",
       "1         sadness  Layin n bed with a headache  ughhhh...waitin o...      60\n",
       "2         sadness                Funeral ceremony...gloomy friday...      35\n",
       "3      enthusiasm               wants to hang out with friends SOON!      36\n",
       "4         neutral  @dannycastillo We want to trade with someone w...      86\n",
       "...           ...                                                ...     ...\n",
       "39995     neutral                                   @JohnLloydTaylor      16\n",
       "39996        love                     Happy Mothers Day  All my love      30\n",
       "39997        love  Happy Mother's Day to all the mommies out ther...     123\n",
       "39998   happiness  @niariley WASSUP BEAUTIFUL!!! FOLLOW ME!!  PEE...     122\n",
       "39999        love  @mopedronin bullet train from tokyo    the gf ...     132\n",
       "\n",
       "[40000 rows x 3 columns]"
      ]
     },
     "execution_count": 15,
     "metadata": {},
     "output_type": "execute_result"
    }
   ],
   "source": [
    "dataset"
   ]
  },
  {
   "cell_type": "code",
   "execution_count": 26,
   "id": "6b6d2609",
   "metadata": {},
   "outputs": [],
   "source": [
    "import preprocessor as p#forming a separate feature for cleaned tweets\n",
    "dataset['content']=dataset.content.apply(lambda x:p.clean(x))\n",
    "\n",
    "# It deals with —\n",
    "\n",
    "#     URLs\n",
    "#     Mentions\n",
    "#     Reserved words (RT, FAV)\n",
    "#     Emojis\n",
    "#     Smileys"
   ]
  },
  {
   "cell_type": "code",
   "execution_count": 31,
   "id": "b900e209",
   "metadata": {},
   "outputs": [],
   "source": [
    "dataset.drop(['length'],axis=1).to_csv('preprocessed_tweets.csv')"
   ]
  },
  {
   "cell_type": "code",
   "execution_count": null,
   "id": "685515ea",
   "metadata": {},
   "outputs": [],
   "source": []
  }
 ],
 "metadata": {
  "kernelspec": {
   "display_name": "Python 3 (ipykernel)",
   "language": "python",
   "name": "python3"
  },
  "language_info": {
   "codemirror_mode": {
    "name": "ipython",
    "version": 3
   },
   "file_extension": ".py",
   "mimetype": "text/x-python",
   "name": "python",
   "nbconvert_exporter": "python",
   "pygments_lexer": "ipython3",
   "version": "3.10.2"
  }
 },
 "nbformat": 4,
 "nbformat_minor": 5
}
